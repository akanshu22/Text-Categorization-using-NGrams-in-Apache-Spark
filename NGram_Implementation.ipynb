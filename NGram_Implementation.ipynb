{
 "cells": [
  {
   "cell_type": "markdown",
   "metadata": {},
   "source": [
    "# Big Data Analytics | End Term Project\n",
    "Project Title: Text Categorization using NGrams\n",
    "\n",
    "Developed By: \n",
    "\n",
    "    Anshul Khantwal, MT16010\n",
    "    Ashutosh Mittal, MT16012"
   ]
  },
  {
   "cell_type": "code",
   "execution_count": 2,
   "metadata": {
    "collapsed": true
   },
   "outputs": [],
   "source": [
    "#removePunctuationAndLemmatize() method to remove punctuations and make text Lemmatized.\n",
    "import re\n",
    "from nltk.stem import PorterStemmer\n",
    "def removePunctuationAndLemmatize(text):\n",
    "    stemmer = PorterStemmer()\n",
    "    text = stemmer.stem(text)\n",
    "    text = re.sub(\"[^A-Za-z ]+\",\"\",text).lower().strip()\n",
    "    return text"
   ]
  },
  {
   "cell_type": "code",
   "execution_count": 3,
   "metadata": {
    "collapsed": false
   },
   "outputs": [],
   "source": [
    "#Preparing Training and Testing Datas\n",
    "import glob\n",
    "baseDirTestData = 'datasets\\Test_Data'\n",
    "baseDirTrainData = 'datasets\\Train_Data'\n",
    "categories = ['Business',\"Entertainment\",\"Politics\",\"Sport\",\"Tech\"]\n",
    "\n",
    "TestDir = [baseDirTestData + \"\\\\\" + x +\"\\\\*.txt\" for x in categories]\n",
    "TrainDir = [baseDirTrainData + \"\\\\\" + x +\"\\\\*.txt\" for x in categories]"
   ]
  },
  {
   "cell_type": "code",
   "execution_count": 4,
   "metadata": {
    "collapsed": false
   },
   "outputs": [],
   "source": [
    "#Function to generate 3-Grams from text\n",
    "from nltk.corpus import stopwords\n",
    "cachedStopWords = stopwords.words(\"english\")\n",
    "\n",
    "def processTextAndGenerateGrams(text,n):\n",
    "    text = re.sub(' +',' ',text)\n",
    "    text = [item for item in text.split(\" \") if item not in cachedStopWords]\n",
    "    words = []\n",
    "    print(text)\n",
    "    if len(text)>n:\n",
    "        for i in range(0,len(text)-n+1):\n",
    "            words.append(\" \".join(text[i:i+n]))\n",
    "    elif len(text) == n:\n",
    "        words.append(\" \".join(text))\n",
    "    return words"
   ]
  },
  {
   "cell_type": "code",
   "execution_count": 5,
   "metadata": {
    "collapsed": false,
    "scrolled": true
   },
   "outputs": [],
   "source": [
    "#processTextAndGenerateGrams(\"the hello worlds the anshul the mayur\",2)"
   ]
  },
  {
   "cell_type": "code",
   "execution_count": 6,
   "metadata": {
    "collapsed": false
   },
   "outputs": [],
   "source": [
    "# TODO: Replace <FILL IN> with appropriate code\n",
    "def wordCount(wordListRDD):\n",
    "    return wordListRDD.map(lambda x : (x,1)).reduceByKey(lambda x,y:x+y)"
   ]
  },
  {
   "cell_type": "code",
   "execution_count": 7,
   "metadata": {
    "collapsed": false
   },
   "outputs": [],
   "source": [
    "def generateNGramsRDD(fileList,ngrams):\n",
    "    RDD = sc.union([sc.textFile(f,4) for f in fileList])\n",
    "    RDD = RDD.map(removePunctuationAndLemmatize)\n",
    "    dataGramsRDD = RDD.flatMap(lambda x: processTextAndGenerateGrams(x.replace(\"\\n\",\"\"),ngrams))\n",
    "    #return dataGramsRDD.map(lambda x : (x,1)).reduceByKey(lambda x,y:x+y)\n",
    "    return dataGramsRDD.map(lambda x : (x,1)).reduceByKey(lambda x,y:x+y).map(lambda x : (x[0],[x[1]]))\n",
    "\n",
    "ngrams = 2\n",
    "NGramsBusiness = generateNGramsRDD(glob.glob(TrainDir[0]),ngrams)\n",
    "NGramsEntertainment = generateNGramsRDD(glob.glob(TrainDir[1]),ngrams)\n",
    "NGramsPolitics = generateNGramsRDD(glob.glob(TrainDir[2]),ngrams)\n",
    "NGramsSport = generateNGramsRDD(glob.glob(TrainDir[3]),ngrams)\n",
    "NGramsTech = generateNGramsRDD(glob.glob(TrainDir[4]),ngrams)"
   ]
  },
  {
   "cell_type": "code",
   "execution_count": 8,
   "metadata": {
    "collapsed": false
   },
   "outputs": [],
   "source": [
    "def generateRepresentativeRDD(NGrams):\n",
    "    import math\n",
    "    normalisation = NGrams.map(lambda x : ('*',x[1][0]*x[1][0])).reduceByKey(lambda x,y:x+y)\n",
    "    sqrt_normalisation = normalisation.map(lambda x: (\"*\",math.sqrt(x[1])))\n",
    "    normalising_factor = sqrt_normalisation.values().sum()\n",
    "    representative_vector = NGrams.map(lambda x : (x[0],[x[1][0]/normalising_factor]))\n",
    "    return representative_vector\n",
    "\n",
    "RepresentativeRDDBusiness = generateRepresentativeRDD(NGramsBusiness)\n",
    "RepresentativeRDDEntertainment = generateRepresentativeRDD(NGramsEntertainment)\n",
    "RepresentativeRDDPolitics = generateRepresentativeRDD(NGramsPolitics)\n",
    "RepresentativeRDDSport = generateRepresentativeRDD(NGramsSport)\n",
    "RepresentativeRDDTech = generateRepresentativeRDD(NGramsTech)"
   ]
  },
  {
   "cell_type": "code",
   "execution_count": 9,
   "metadata": {
    "collapsed": true
   },
   "outputs": [],
   "source": [
    "def combineFilesIntoSingleFile(dir_list,filename):\n",
    "    c = \"\"\n",
    "    for f in glob.glob(TrainDir[4]):\n",
    "        with open(f) as f:\n",
    "            a = f.read()\n",
    "            c+=a\n",
    "            \n",
    "    with open(filename,\"w\") as f:\n",
    "        f.write(c)"
   ]
  },
  {
   "cell_type": "code",
   "execution_count": 10,
   "metadata": {
    "collapsed": false
   },
   "outputs": [],
   "source": [
    "#dir_list = glob.glob(TrainDir[4])\n",
    "#combineFilesIntoSingleFile(glob.glob(TrainDir[4]),\"abc.txt\")\n",
    "#RepresentativeRDDPolitics.takeOrdered(10,lambda x:-x[1][0])"
   ]
  },
  {
   "cell_type": "code",
   "execution_count": 11,
   "metadata": {
    "collapsed": true
   },
   "outputs": [],
   "source": [
    "def findDistance(NormalisedRDD,RepresentativeRDD):\n",
    "    cosineDistance = NormalisedRDD.union(RepresentativeRDD).reduceByKey(lambda x,y:x+y)\n",
    "    #print(cosineDistance.filter(lambda x:len(x[1])!=1).take(20))\n",
    "    return cosineDistance.filter(lambda x:len(x[1])!=1).map(lambda x:(\"*\",x[1][0]*x[1][1])).values().sum()"
   ]
  },
  {
   "cell_type": "code",
   "execution_count": 12,
   "metadata": {
    "collapsed": true
   },
   "outputs": [],
   "source": [
    "def classifyUsingCosine(NormalisedRDD):\n",
    "    similarity = 0\n",
    "    label = None\n",
    "    \n",
    "    x = findDistance(NormalisedRDD,RepresentativeRDDBusiness)\n",
    "    if similarity < x:\n",
    "        similarity = x\n",
    "        label = \"Business\"\n",
    "        \n",
    "    x = findDistance(NormalisedRDD,RepresentativeRDDEntertainment)\n",
    "    if similarity < x:\n",
    "        similarity = x\n",
    "        label = \"Entertainment\"\n",
    "        \n",
    "    x = findDistance(NormalisedRDD,RepresentativeRDDPolitics)\n",
    "    if similarity < x:\n",
    "        similarity = x\n",
    "        label = \"Politics\"\n",
    "        \n",
    "    x = findDistance(NormalisedRDD,RepresentativeRDDSport)\n",
    "    if similarity < x:\n",
    "        similarity = x\n",
    "        label = \"Sport\"\n",
    "        \n",
    "    x = findDistance(NormalisedRDD,RepresentativeRDDTech)\n",
    "    if similarity < x:\n",
    "        similarity = x\n",
    "        label = \"Technology\"\n",
    "        \n",
    "    return (similarity,label)"
   ]
  },
  {
   "cell_type": "code",
   "execution_count": 13,
   "metadata": {
    "collapsed": true
   },
   "outputs": [],
   "source": [
    "def findEuclideanDistance(NormalisedRDD,RepresentativeRDD):\n",
    "    import math\n",
    "    distance = NormalisedRDD.union(RepresentativeRDD).reduceByKey(lambda x,y:x+y)\n",
    "    #print(cosineDistance.filter(lambda x:len(x[1])!=1).take(20))\n",
    "    return math.sqrt( distance.map( lambda x : (\"*\",math.pow(x[1][0]-x[1][1],2)) if len(x[1]) == 2 else (\"*\",math.pow(x[1][0],2)) ).values().sum() )"
   ]
  },
  {
   "cell_type": "code",
   "execution_count": 14,
   "metadata": {
    "collapsed": true
   },
   "outputs": [],
   "source": [
    "def classifyUsingEuclidean(NormalisedRDD):\n",
    "    similarity = 2\n",
    "    label = None\n",
    "    \n",
    "    x = findEuclideanDistance(NormalisedRDD,RepresentativeRDDBusiness)\n",
    "    if similarity > x:\n",
    "        similarity = x\n",
    "        label = \"Business\"\n",
    "        \n",
    "    x = findEuclideanDistance(NormalisedRDD,RepresentativeRDDEntertainment)\n",
    "    if similarity > x:\n",
    "        similarity = x\n",
    "        label = \"Entertainment\"\n",
    "        \n",
    "    x = findEuclideanDistance(NormalisedRDD,RepresentativeRDDPolitics)\n",
    "    if similarity > x:\n",
    "        similarity = x\n",
    "        label = \"Politics\"\n",
    "        \n",
    "    x = findEuclideanDistance(NormalisedRDD,RepresentativeRDDSport)\n",
    "    if similarity > x:\n",
    "        similarity = x\n",
    "        label = \"Sport\"\n",
    "        \n",
    "    x = findEuclideanDistance(NormalisedRDD,RepresentativeRDDTech)\n",
    "    if similarity > x:\n",
    "        similarity = x\n",
    "        label = \"Technology\"\n",
    "        \n",
    "    return (similarity,label)"
   ]
  },
  {
   "cell_type": "code",
   "execution_count": 16,
   "metadata": {
    "collapsed": false
   },
   "outputs": [],
   "source": [
    "testing_data = [[\"business.txt\"],[\"entertainment.txt\"],[\"politics.txt\"],[\"sports.txt\"],[\"tech.txt\"]]\n",
    "NGramsTest = generateNGramsRDD(testing_data[4],ngrams)\n",
    "NormalisedRDD = generateRepresentativeRDD(NGramsTest)"
   ]
  },
  {
   "cell_type": "code",
   "execution_count": 17,
   "metadata": {
    "collapsed": false
   },
   "outputs": [
    {
     "name": "stdout",
     "output_type": "stream",
     "text": [
      "Statistics while using Cosine Distance as a norm:\t (0.05850126496138351, 'Technology')\n",
      "Statistics while using Euclidean Distance as a norm:\t (1.3722235496001984, 'Technology')\n"
     ]
    }
   ],
   "source": [
    "print(\"Statistics while using Cosine Distance as a norm:\\t\",classifyUsingCosine(NormalisedRDD))\n",
    "print(\"Statistics while using Euclidean Distance as a norm:\\t\",classifyUsingEuclidean(NormalisedRDD))"
   ]
  },
  {
   "cell_type": "code",
   "execution_count": null,
   "metadata": {
    "collapsed": true
   },
   "outputs": [],
   "source": []
  }
 ],
 "metadata": {
  "anaconda-cloud": {},
  "kernelspec": {
   "display_name": "Python [default]",
   "language": "python",
   "name": "python3"
  },
  "language_info": {
   "codemirror_mode": {
    "name": "ipython",
    "version": 3
   },
   "file_extension": ".py",
   "mimetype": "text/x-python",
   "name": "python",
   "nbconvert_exporter": "python",
   "pygments_lexer": "ipython3",
   "version": "3.5.2"
  }
 },
 "nbformat": 4,
 "nbformat_minor": 1
}
